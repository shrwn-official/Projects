{
 "cells": [
  {
   "cell_type": "code",
   "execution_count": 1,
   "id": "d7d61a7b-4a1a-42f4-bbec-1828bda7ba59",
   "metadata": {},
   "outputs": [
    {
     "name": "stdout",
     "output_type": "stream",
     "text": [
      "WARNING:tensorflow:From C:\\Python310\\lib\\site-packages\\keras\\src\\losses.py:2976: The name tf.losses.sparse_softmax_cross_entropy is deprecated. Please use tf.compat.v1.losses.sparse_softmax_cross_entropy instead.\n",
      "\n"
     ]
    }
   ],
   "source": [
    "import numpy as np\n",
    "from keras.models import load_model\n",
    "import joblib\n"
   ]
  },
  {
   "cell_type": "code",
   "execution_count": 2,
   "id": "256ef342-b123-4b84-badd-9be28115f83a",
   "metadata": {},
   "outputs": [
    {
     "name": "stdout",
     "output_type": "stream",
     "text": [
      "WARNING:tensorflow:From C:\\Python310\\lib\\site-packages\\keras\\src\\backend.py:1398: The name tf.executing_eagerly_outside_functions is deprecated. Please use tf.compat.v1.executing_eagerly_outside_functions instead.\n",
      "\n"
     ]
    }
   ],
   "source": [
    "# Load the trained model\n",
    "model = load_model('water_distribution_model.h5')\n",
    "\n",
    "# Load the scaler\n",
    "scaler = joblib.load('scaler.pkl')\n"
   ]
  },
  {
   "cell_type": "code",
   "execution_count": 3,
   "id": "af35c6f2-17b9-4c17-adbf-db34a4ebb656",
   "metadata": {},
   "outputs": [],
   "source": [
    "def make_prediction(model, scaler, current_data):\n",
    "    # Scale the input data\n",
    "    scaled_current_data = scaler.transform([current_data])\n",
    "    scaled_current_data = scaled_current_data.reshape((scaled_current_data.shape[0], 1, scaled_current_data.shape[1]))\n",
    "    \n",
    "    # Predict the water distribution\n",
    "    prediction = model.predict(scaled_current_data)\n",
    "    \n",
    "    return prediction"
   ]
  },
  {
   "cell_type": "code",
   "execution_count": 13,
   "id": "da3484e9-b73f-4aea-91d0-05a2fcfb75e0",
   "metadata": {},
   "outputs": [],
   "source": [
    "def GUI(distPer1,distPer2,waterlevel):\n",
    "    print(\"-------------KAVERY WATER DISTRIBUTION PLANT -----------------\")\n",
    "    print(f\"Current Water Remaining in Kavery: {waterlevel} TMC\")\n",
    "    print(\"________________________________________________________________\")\n",
    "    print(f\"Distribution Pridicted for Karnataka : {distPer1*100}\")\n",
    "    print(f\"Distribution Pridicted for TamilNadu : {distPer2*100}\")\n",
    "    print(\"________________________________________________________________\")\n",
    "    print(f\"Water Release (in TMC) for Karnataka : {distPer1*waterlevel} TMC\")\n",
    "    print(f\"Water Release (in TMC) for TamilNadu : {distPer2*waterlevel} TMC\")\n",
    "\n",
    "\n",
    "    "
   ]
  },
  {
   "cell_type": "code",
   "execution_count": 33,
   "id": "88188861-5dc6-4ce1-8929-18a8a0e98826",
   "metadata": {},
   "outputs": [
    {
     "name": "stdout",
     "output_type": "stream",
     "text": [
      "1/1 [==============================] - 0s 32ms/step\n",
      "0.8088934 1.0141518\n",
      "-------------KAVERY WATER DISTRIBUTION PLANT -----------------\n",
      "Current Water Remaining in Kavery: 20 TMC\n",
      "________________________________________________________________\n",
      "Distribution Pridicted for Karnataka : 44.37044858932495\n",
      "Distribution Pridicted for TamilNadu : 55.62954545021057\n",
      "________________________________________________________________\n",
      "Water Release (in TMC) for Karnataka : 8.87408971786499 TMC\n",
      "Water Release (in TMC) for TamilNadu : 11.125909090042114 TMC\n"
     ]
    },
    {
     "name": "stderr",
     "output_type": "stream",
     "text": [
      "C:\\Users\\cocre\\AppData\\Roaming\\Python\\Python310\\site-packages\\sklearn\\base.py:450: UserWarning: X does not have valid feature names, but StandardScaler was fitted with feature names\n",
      "  warnings.warn(\n"
     ]
    }
   ],
   "source": [
    "\n",
    "current_data = [45, 69417829, 14431, 2400, 3200, 60, 7236673, 17232, 990, 1200]  # Example input values\n",
    "\n",
    "# Make the prediction\n",
    "prediction = make_prediction(model, scaler, current_data)\n",
    "distPer1 =prediction[0, 0]/(prediction[0, 0]+prediction[0, 1]) \n",
    "distPer2 = prediction[0, 1]/(prediction[0, 0]+prediction[0, 1]) \n",
    "print(prediction[0, 0],prediction[0, 1])\n",
    "GUI(distPer1,distPer2,20)\n"
   ]
  },
  {
   "cell_type": "code",
   "execution_count": 34,
   "id": "182a615b-f477-41c3-8443-456f1db0d4a0",
   "metadata": {},
   "outputs": [
    {
     "name": "stdout",
     "output_type": "stream",
     "text": [
      "1/1 [==============================] - 0s 31ms/step\n",
      "0.77924705 0.9562381\n",
      "-------------KAVERY WATER DISTRIBUTION PLANT -----------------\n",
      "Current Water Remaining in Kavery: 20 TMC\n",
      "________________________________________________________________\n",
      "Distribution Pridicted for Karnataka : 44.90081965923309\n",
      "Distribution Pridicted for TamilNadu : 55.099183320999146\n",
      "________________________________________________________________\n",
      "Water Release (in TMC) for Karnataka : 8.980163931846619 TMC\n",
      "Water Release (in TMC) for TamilNadu : 11.019836664199829 TMC\n"
     ]
    },
    {
     "name": "stderr",
     "output_type": "stream",
     "text": [
      "C:\\Users\\cocre\\AppData\\Roaming\\Python\\Python310\\site-packages\\sklearn\\base.py:450: UserWarning: X does not have valid feature names, but StandardScaler was fitted with feature names\n",
      "  warnings.warn(\n"
     ]
    }
   ],
   "source": [
    "current_data = [10, 69417829, 16431, 1400, 2800, 60, 7236673, 17232, 990, 1200]  # bad conditions in KARNATAKA\n",
    "\n",
    "# Make the prediction\n",
    "prediction = make_prediction(model, scaler, current_data)\n",
    "distPer1 =prediction[0, 0]/(prediction[0, 0]+prediction[0, 1]) \n",
    "distPer2 = prediction[0, 1]/(prediction[0, 0]+prediction[0, 1]) \n",
    "print(prediction[0, 0],prediction[0, 1])\n",
    "GUI(distPer1,distPer2,20)"
   ]
  },
  {
   "cell_type": "code",
   "execution_count": 35,
   "id": "3fb1d7fa-3e24-4fb2-925a-fea8444ec1bf",
   "metadata": {},
   "outputs": [
    {
     "name": "stdout",
     "output_type": "stream",
     "text": [
      "1/1 [==============================] - 0s 33ms/step\n",
      "0.8903691 1.1217369\n",
      "-------------KAVERY WATER DISTRIBUTION PLANT -----------------\n",
      "Current Water Remaining in Kavery: 20 TMC\n",
      "________________________________________________________________\n",
      "Distribution Pridicted for Karnataka : 44.25060749053955\n",
      "Distribution Pridicted for TamilNadu : 55.74939250946045\n",
      "________________________________________________________________\n",
      "Water Release (in TMC) for Karnataka : 8.85012149810791 TMC\n",
      "Water Release (in TMC) for TamilNadu : 11.14987850189209 TMC\n"
     ]
    },
    {
     "name": "stderr",
     "output_type": "stream",
     "text": [
      "C:\\Users\\cocre\\AppData\\Roaming\\Python\\Python310\\site-packages\\sklearn\\base.py:450: UserWarning: X does not have valid feature names, but StandardScaler was fitted with feature names\n",
      "  warnings.warn(\n"
     ]
    }
   ],
   "source": [
    "current_data = [45, 69417829, 14431, 2400, 3200, 15, 7236673, 14232, 890, 800]  # bad conditions in TAMILNADU\n",
    "\n",
    "# Make the prediction\n",
    "prediction = make_prediction(model, scaler, current_data)\n",
    "distPer1 =prediction[0, 0]/(prediction[0, 0]+prediction[0, 1]) \n",
    "distPer2 = prediction[0, 1]/(prediction[0, 0]+prediction[0, 1]) \n",
    "print(prediction[0, 0],prediction[0, 1])\n",
    "GUI(distPer1,distPer2,20)"
   ]
  }
 ],
 "metadata": {
  "kernelspec": {
   "display_name": "Python 3 (ipykernel)",
   "language": "python",
   "name": "python3"
  },
  "language_info": {
   "codemirror_mode": {
    "name": "ipython",
    "version": 3
   },
   "file_extension": ".py",
   "mimetype": "text/x-python",
   "name": "python",
   "nbconvert_exporter": "python",
   "pygments_lexer": "ipython3",
   "version": "3.10.6"
  }
 },
 "nbformat": 4,
 "nbformat_minor": 5
}
