{
 "cells": [
  {
   "cell_type": "code",
   "execution_count": null,
   "id": "5e02d358-9b10-4a41-af73-0612593fea96",
   "metadata": {},
   "outputs": [],
   "source": [
    "# -------------------------------"
   ]
  },
  {
   "cell_type": "code",
   "execution_count": 54,
   "id": "c614ab62-0ccd-4441-9779-d077ae727afe",
   "metadata": {},
   "outputs": [],
   "source": [
    "import pandas as pd\n",
    "import numpy as np\n",
    "from sklearn.preprocessing import StandardScaler\n",
    "from sklearn.model_selection import train_test_split\n",
    "from keras.models import Sequential, load_model\n",
    "from keras.layers import LSTM, Dropout, Dense\n",
    "from keras.optimizers import Adam\n",
    "import matplotlib.pyplot as plt\n",
    "import joblib"
   ]
  },
  {
   "cell_type": "code",
   "execution_count": 56,
   "id": "f9081b26-ee54-496a-aff0-8c9018c192bd",
   "metadata": {},
   "outputs": [
    {
     "name": "stdout",
     "output_type": "stream",
     "text": [
      "         Date  Rainfall_Karnataka   Population_karnataka   \n",
      "0  01-01-2013                36.44            62558000.0  \\\n",
      "1  15-01-2013                36.44            62584083.0   \n",
      "2  01-02-2013                36.44            62610166.0   \n",
      "3  15-02-2013                36.44            62636249.0   \n",
      "4  01-03-2013                36.44            62662332.0   \n",
      "\n",
      "   Consumption_karnataka  Reserved_Lake_karnataka   \n",
      "0            14701.13000               2456.21898  \\\n",
      "1            14707.25951               2456.21898   \n",
      "2            14713.38901               2456.21898   \n",
      "3            14719.51852               2456.21898   \n",
      "4            14725.64802               2456.21898   \n",
      "\n",
      "   Reserved_Underground_karnataka  Rainfall_tamilnadu  Population_tamilnadu   \n",
      "0                         3328.21              47.372            65287332.0  \\\n",
      "1                         3328.21              47.372            65313415.0   \n",
      "2                         3328.21              47.372            65339498.0   \n",
      "3                         3328.21              47.372            65365581.0   \n",
      "4                         3328.21              47.372            65391664.0   \n",
      "\n",
      "   Consumption_tamilnadu  Reserved_Lake_tamilnadu   \n",
      "0            15342.52302                 1664.105  \\\n",
      "1            15348.65253                 1664.105   \n",
      "2            15354.78203                 1664.105   \n",
      "3            15360.91154                 1664.105   \n",
      "4            15367.04104                 1664.105   \n",
      "\n",
      "   Reserved_Underground_tamilnadu  Distribution_State_karnataka   \n",
      "0                      2246.54175                      0.437173  \\\n",
      "1                      2246.54175                      0.437199   \n",
      "2                      2246.54175                      0.437225   \n",
      "3                      2246.54175                      0.437251   \n",
      "4                      2246.54175                      0.437277   \n",
      "\n",
      "   Distribution_State_tamilnadu  \n",
      "0                      0.562827  \n",
      "1                      0.562801  \n",
      "2                      0.562775  \n",
      "3                      0.562749  \n",
      "4                      0.562723  \n"
     ]
    }
   ],
   "source": [
    "# Load the dataset\n",
    "data = pd.read_csv('waterdata3.csv')\n",
    "print(data.head())"
   ]
  },
  {
   "cell_type": "code",
   "execution_count": 57,
   "id": "f9a4cdb6-b3da-44eb-8d0a-49786a4ad248",
   "metadata": {},
   "outputs": [
    {
     "name": "stdout",
     "output_type": "stream",
     "text": [
      "Date                              7\n",
      "Rainfall_Karnataka                7\n",
      "Population_karnataka              7\n",
      "Consumption_karnataka             7\n",
      "Reserved_Lake_karnataka           7\n",
      "Reserved_Underground_karnataka    7\n",
      "Rainfall_tamilnadu                7\n",
      "Population_tamilnadu              7\n",
      "Consumption_tamilnadu             7\n",
      "Reserved_Lake_tamilnadu           7\n",
      "Reserved_Underground_tamilnadu    7\n",
      "Distribution_State_karnataka      7\n",
      "Distribution_State_tamilnadu      7\n",
      "dtype: int64\n",
      "Rainfall_Karnataka                7\n",
      "Population_karnataka              7\n",
      "Consumption_karnataka             7\n",
      "Reserved_Lake_karnataka           7\n",
      "Reserved_Underground_karnataka    7\n",
      "Rainfall_tamilnadu                7\n",
      "Population_tamilnadu              7\n",
      "Consumption_tamilnadu             7\n",
      "Reserved_Lake_tamilnadu           7\n",
      "Reserved_Underground_tamilnadu    7\n",
      "Distribution_State_karnataka      7\n",
      "Distribution_State_tamilnadu      7\n",
      "dtype: int64\n"
     ]
    }
   ],
   "source": [
    "# Check for missing values\n",
    "print(data.isnull().sum())\n",
    "\n",
    "# Convert non-numeric columns to numeric if possible, or drop them\n",
    "for column in data.columns:\n",
    "    if data[column].dtype == 'object':\n",
    "        try:\n",
    "            data[column] = pd.to_numeric(data[column])\n",
    "        except ValueError:\n",
    "            data = data.drop(columns=[column])\n",
    "\n",
    "# Check for missing values again\n",
    "print(data.isnull().sum())"
   ]
  },
  {
   "cell_type": "code",
   "execution_count": 58,
   "id": "0df2a6db-d5c2-4001-b4be-0febe79a7459",
   "metadata": {},
   "outputs": [
    {
     "name": "stdout",
     "output_type": "stream",
     "text": [
      "Rainfall_Karnataka                0\n",
      "Population_karnataka              0\n",
      "Consumption_karnataka             0\n",
      "Reserved_Lake_karnataka           0\n",
      "Reserved_Underground_karnataka    0\n",
      "Rainfall_tamilnadu                0\n",
      "Population_tamilnadu              0\n",
      "Consumption_tamilnadu             0\n",
      "Reserved_Lake_tamilnadu           0\n",
      "Reserved_Underground_tamilnadu    0\n",
      "Distribution_State_karnataka      0\n",
      "Distribution_State_tamilnadu      0\n",
      "dtype: int64\n"
     ]
    }
   ],
   "source": [
    "# Fill NaNs with the mean of the column\n",
    "data = data.fillna(data.mean())\n",
    "print(data.isnull().sum())"
   ]
  },
  {
   "cell_type": "code",
   "execution_count": 59,
   "id": "f0afdaa0-3a55-47b7-a322-0acf24746fed",
   "metadata": {},
   "outputs": [
    {
     "name": "stdout",
     "output_type": "stream",
     "text": [
      "0\n"
     ]
    }
   ],
   "source": [
    "# Assuming 'Date' is not needed for model training, drop it if it's still there\n",
    "if 'Date' in data.columns:\n",
    "    data = data.drop(columns=['Date'])\n",
    "\n",
    "# Normalize the input features\n",
    "input_features = data.drop(columns=['Distribution_State_karnataka', 'Distribution_State_tamilnadu'])\n",
    "scaler = StandardScaler()\n",
    "scaled_features = scaler.fit_transform(input_features)\n",
    "\n",
    "# Check if the scaled features have any NaN values\n",
    "print(np.isnan(scaled_features).sum())\n",
    "\n",
    "# Prepare target variables\n",
    "target = data[['Distribution_State_karnataka', 'Distribution_State_tamilnadu']].values\n",
    "\n",
    "# Reshape input data for LSTM\n",
    "scaled_features = scaled_features.reshape((scaled_features.shape[0], 1, scaled_features.shape[1]))"
   ]
  },
  {
   "cell_type": "code",
   "execution_count": 60,
   "id": "16b434d6-c69e-48ad-ae91-401aee777776",
   "metadata": {},
   "outputs": [
    {
     "name": "stdout",
     "output_type": "stream",
     "text": [
      "Epoch 1/50\n",
      "7/7 [==============================] - 8s 275ms/step - loss: 0.2447 - val_loss: 0.2310\n",
      "Epoch 2/50\n",
      "7/7 [==============================] - 0s 17ms/step - loss: 0.2200 - val_loss: 0.2037\n",
      "Epoch 3/50\n",
      "7/7 [==============================] - 0s 15ms/step - loss: 0.1898 - val_loss: 0.1673\n",
      "Epoch 4/50\n",
      "7/7 [==============================] - 0s 14ms/step - loss: 0.1488 - val_loss: 0.1159\n",
      "Epoch 5/50\n",
      "7/7 [==============================] - 0s 13ms/step - loss: 0.0896 - val_loss: 0.0505\n",
      "Epoch 6/50\n",
      "7/7 [==============================] - 0s 14ms/step - loss: 0.0342 - val_loss: 0.0130\n",
      "Epoch 7/50\n",
      "7/7 [==============================] - 0s 15ms/step - loss: 0.0211 - val_loss: 0.0160\n",
      "Epoch 8/50\n",
      "7/7 [==============================] - 0s 14ms/step - loss: 0.0206 - val_loss: 0.0072\n",
      "Epoch 9/50\n",
      "7/7 [==============================] - 0s 15ms/step - loss: 0.0118 - val_loss: 0.0082\n",
      "Epoch 10/50\n",
      "7/7 [==============================] - 0s 14ms/step - loss: 0.0122 - val_loss: 0.0061\n",
      "Epoch 11/50\n",
      "7/7 [==============================] - 0s 14ms/step - loss: 0.0099 - val_loss: 0.0038\n",
      "Epoch 12/50\n",
      "7/7 [==============================] - 0s 14ms/step - loss: 0.0087 - val_loss: 0.0032\n",
      "Epoch 13/50\n",
      "7/7 [==============================] - 0s 15ms/step - loss: 0.0075 - val_loss: 0.0026\n",
      "Epoch 14/50\n",
      "7/7 [==============================] - 0s 14ms/step - loss: 0.0079 - val_loss: 0.0024\n",
      "Epoch 15/50\n",
      "7/7 [==============================] - 0s 14ms/step - loss: 0.0071 - val_loss: 0.0022\n",
      "Epoch 16/50\n",
      "7/7 [==============================] - 0s 14ms/step - loss: 0.0050 - val_loss: 0.0018\n",
      "Epoch 17/50\n",
      "7/7 [==============================] - 0s 13ms/step - loss: 0.0056 - val_loss: 0.0019\n",
      "Epoch 18/50\n",
      "7/7 [==============================] - 0s 13ms/step - loss: 0.0064 - val_loss: 0.0015\n",
      "Epoch 19/50\n",
      "7/7 [==============================] - 0s 14ms/step - loss: 0.0057 - val_loss: 0.0013\n",
      "Epoch 20/50\n",
      "7/7 [==============================] - 0s 13ms/step - loss: 0.0047 - val_loss: 0.0012\n",
      "Epoch 21/50\n",
      "7/7 [==============================] - 0s 19ms/step - loss: 0.0052 - val_loss: 0.0011\n",
      "Epoch 22/50\n",
      "7/7 [==============================] - 0s 13ms/step - loss: 0.0047 - val_loss: 9.2453e-04\n",
      "Epoch 23/50\n",
      "7/7 [==============================] - 0s 14ms/step - loss: 0.0045 - val_loss: 0.0011\n",
      "Epoch 24/50\n",
      "7/7 [==============================] - 0s 20ms/step - loss: 0.0045 - val_loss: 8.9691e-04\n",
      "Epoch 25/50\n",
      "7/7 [==============================] - 0s 16ms/step - loss: 0.0041 - val_loss: 8.7310e-04\n",
      "Epoch 26/50\n",
      "7/7 [==============================] - 0s 16ms/step - loss: 0.0050 - val_loss: 7.4837e-04\n",
      "Epoch 27/50\n",
      "7/7 [==============================] - 0s 15ms/step - loss: 0.0043 - val_loss: 6.8540e-04\n",
      "Epoch 28/50\n",
      "7/7 [==============================] - 0s 15ms/step - loss: 0.0041 - val_loss: 7.0889e-04\n",
      "Epoch 29/50\n",
      "7/7 [==============================] - 0s 15ms/step - loss: 0.0044 - val_loss: 5.9098e-04\n",
      "Epoch 30/50\n",
      "7/7 [==============================] - 0s 14ms/step - loss: 0.0039 - val_loss: 6.4516e-04\n",
      "Epoch 31/50\n",
      "7/7 [==============================] - 0s 14ms/step - loss: 0.0040 - val_loss: 6.3740e-04\n",
      "Epoch 32/50\n",
      "7/7 [==============================] - 0s 14ms/step - loss: 0.0041 - val_loss: 7.5601e-04\n",
      "Epoch 33/50\n",
      "7/7 [==============================] - 0s 14ms/step - loss: 0.0039 - val_loss: 5.3677e-04\n",
      "Epoch 34/50\n",
      "7/7 [==============================] - 0s 14ms/step - loss: 0.0040 - val_loss: 4.4882e-04\n",
      "Epoch 35/50\n",
      "7/7 [==============================] - 0s 15ms/step - loss: 0.0035 - val_loss: 5.1019e-04\n",
      "Epoch 36/50\n",
      "7/7 [==============================] - 0s 14ms/step - loss: 0.0037 - val_loss: 7.8459e-04\n",
      "Epoch 37/50\n",
      "7/7 [==============================] - 0s 14ms/step - loss: 0.0033 - val_loss: 4.7058e-04\n",
      "Epoch 38/50\n",
      "7/7 [==============================] - 0s 51ms/step - loss: 0.0031 - val_loss: 3.8460e-04\n",
      "Epoch 39/50\n",
      "7/7 [==============================] - 0s 18ms/step - loss: 0.0036 - val_loss: 5.2912e-04\n",
      "Epoch 40/50\n",
      "7/7 [==============================] - 0s 15ms/step - loss: 0.0034 - val_loss: 5.3916e-04\n",
      "Epoch 41/50\n",
      "7/7 [==============================] - 0s 14ms/step - loss: 0.0033 - val_loss: 4.1579e-04\n",
      "Epoch 42/50\n",
      "7/7 [==============================] - 0s 14ms/step - loss: 0.0037 - val_loss: 3.8811e-04\n",
      "Epoch 43/50\n",
      "7/7 [==============================] - 0s 13ms/step - loss: 0.0033 - val_loss: 4.7621e-04\n",
      "Epoch 44/50\n",
      "7/7 [==============================] - 0s 14ms/step - loss: 0.0032 - val_loss: 4.8264e-04\n",
      "Epoch 45/50\n",
      "7/7 [==============================] - 0s 18ms/step - loss: 0.0029 - val_loss: 4.3585e-04\n",
      "Epoch 46/50\n",
      "7/7 [==============================] - 0s 14ms/step - loss: 0.0036 - val_loss: 4.2284e-04\n",
      "Epoch 47/50\n",
      "7/7 [==============================] - 0s 15ms/step - loss: 0.0034 - val_loss: 3.6641e-04\n",
      "Epoch 48/50\n",
      "7/7 [==============================] - 0s 14ms/step - loss: 0.0037 - val_loss: 5.8594e-04\n",
      "Epoch 49/50\n",
      "7/7 [==============================] - 0s 14ms/step - loss: 0.0031 - val_loss: 5.2970e-04\n",
      "Epoch 50/50\n",
      "7/7 [==============================] - 0s 14ms/step - loss: 0.0031 - val_loss: 2.5296e-04\n"
     ]
    },
    {
     "data": {
      "image/png": "[encoded data removed]",
      "text/plain": [
       "<Figure size 432x288 with 1 Axes>"
      ]
     },
     "metadata": {
      "needs_background": "light"
     },
     "output_type": "display_data"
    },
    {
     "name": "stderr",
     "output_type": "stream",
     "text": [
      "C:\\Python310\\lib\\site-packages\\keras\\src\\engine\\training.py:3103: UserWarning: You are saving your model as an HDF5 file via `model.save()`. This file format is considered legacy. We recommend using instead the native Keras format, e.g. `model.save('my_model.keras')`.\n",
      "  saving_api.save_model(\n"
     ]
    },
    {
     "data": {
      "text/plain": [
       "['scaler.pkl']"
      ]
     },
     "execution_count": 60,
     "metadata": {},
     "output_type": "execute_result"
    }
   ],
   "source": [
    "\n",
    "# Split into train and test sets\n",
    "X_train, X_test, y_train, y_test = train_test_split(scaled_features, target, test_size=0.2, random_state=42)\n",
    "\n",
    "# Build the LSTM model\n",
    "model = Sequential([\n",
    "    LSTM(128, input_shape=(X_train.shape[1], X_train.shape[2]), return_sequences=True),\n",
    "    Dropout(0.2),\n",
    "    LSTM(64, return_sequences=True),\n",
    "    Dropout(0.2),\n",
    "    LSTM(32),\n",
    "    Dropout(0.2),\n",
    "    Dense(2)  # Output layer with 2 neurons for state 1 and state 2 predictions\n",
    "])\n",
    "\n",
    "# Compile the model\n",
    "optimizer = Adam(learning_rate=0.001)\n",
    "model.compile(optimizer=optimizer, loss='mean_squared_error')\n",
    "\n",
    "# Fit the model and track the loss\n",
    "history = model.fit(X_train, y_train, epochs=50, batch_size=32, validation_data=(X_test, y_test))\n",
    "\n",
    "# Plot the training and validation loss\n",
    "plt.plot(history.history['loss'], label='train')\n",
    "plt.plot(history.history['val_loss'], label='validation')\n",
    "plt.legend()\n",
    "plt.show()\n",
    "\n",
    "# Save the trained model\n",
    "model.save('water_distribution_model.h5')\n",
    "joblib.dump(scaler, 'scaler.pkl')\n",
    "\n"
   ]
  }
 ],
 "metadata": {
  "kernelspec": {
   "display_name": "Python 3 (ipykernel)",
   "language": "python",
   "name": "python3"
  },
  "language_info": {
   "codemirror_mode": {
    "name": "ipython",
    "version": 3
   },
   "file_extension": ".py",
   "mimetype": "text/x-python",
   "name": "python",
   "nbconvert_exporter": "python",
   "pygments_lexer": "ipython3",
   "version": "3.10.6"
  }
 },
 "nbformat": 4,
 "nbformat_minor": 5
}
